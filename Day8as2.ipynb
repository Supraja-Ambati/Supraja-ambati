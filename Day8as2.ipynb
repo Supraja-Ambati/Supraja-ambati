{
  "nbformat": 4,
  "nbformat_minor": 0,
  "metadata": {
    "colab": {
      "name": "Day8as2.ipynb",
      "provenance": [],
      "authorship_tag": "ABX9TyOk9xAfxT2Bw6w+DSmP5uX4",
      "include_colab_link": true
    },
    "kernelspec": {
      "name": "python3",
      "display_name": "Python 3"
    }
  },
  "cells": [
    {
      "cell_type": "markdown",
      "metadata": {
        "id": "view-in-github",
        "colab_type": "text"
      },
      "source": [
        "<a href=\"https://colab.research.google.com/github/Supraja-Ambati/Supraja-ambati/blob/master/Day8as2.ipynb\" target=\"_parent\"><img src=\"https://colab.research.google.com/assets/colab-badge.svg\" alt=\"Open In Colab\"/></a>"
      ]
    },
    {
      "cell_type": "code",
      "metadata": {
        "id": "lDU2SuSiB6fx",
        "colab_type": "code",
        "colab": {
          "base_uri": "https://localhost:8080/",
          "height": 34
        },
        "outputId": "d38a08a8-ce7e-4799-b030-40767ebc571f"
      },
      "source": [
        "%%writefile myfile.txt\n",
        "\n",
        "Hello people,\n",
        "Hope you all are good in this pandemic.\n",
        "we are all here to learn python programming in letsupgrade\n",
        "wanna know more details, visit letsupgrade community"
      ],
      "execution_count": null,
      "outputs": [
        {
          "output_type": "stream",
          "text": [
            "Writing myfile.txt\n"
          ],
          "name": "stdout"
        }
      ]
    },
    {
      "cell_type": "code",
      "metadata": {
        "id": "6GVOi6XkCrbe",
        "colab_type": "code",
        "colab": {
          "base_uri": "https://localhost:8080/",
          "height": 85
        },
        "outputId": "463f6fce-fc43-4e38-a5e5-efc6054a8be3"
      },
      "source": [
        "try:\n",
        "  f = open(\"myfile.txt\",\"r\")\n",
        "  f.write(\"HI EVERYONE\")\n",
        "except Exception as e:\n",
        "  print(\"\\n Error has been occured\")\n",
        "  print(\"\\n Error message is \",e)\n"
      ],
      "execution_count": 4,
      "outputs": [
        {
          "output_type": "stream",
          "text": [
            "\n",
            " Error has been occured\n",
            "\n",
            " Error message is  not writable\n"
          ],
          "name": "stdout"
        }
      ]
    }
  ]
}