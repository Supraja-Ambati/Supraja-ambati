{
  "nbformat": 4,
  "nbformat_minor": 0,
  "metadata": {
    "colab": {
      "name": "Day9as2.ipynb",
      "provenance": [],
      "authorship_tag": "ABX9TyN341kLK5c4B+G7oDMuj3wy",
      "include_colab_link": true
    },
    "kernelspec": {
      "name": "python3",
      "display_name": "Python 3"
    }
  },
  "cells": [
    {
      "cell_type": "markdown",
      "metadata": {
        "id": "view-in-github",
        "colab_type": "text"
      },
      "source": [
        "<a href=\"https://colab.research.google.com/github/Supraja-Ambati/Supraja-ambati/blob/master/Day9as2.ipynb\" target=\"_parent\"><img src=\"https://colab.research.google.com/assets/colab-badge.svg\" alt=\"Open In Colab\"/></a>"
      ]
    },
    {
      "cell_type": "code",
      "metadata": {
        "id": "KzldpZXdKtmZ",
        "colab_type": "code",
        "colab": {}
      },
      "source": [
        "lst = list(range(1,1000+1))"
      ],
      "execution_count": 16,
      "outputs": []
    },
    {
      "cell_type": "code",
      "metadata": {
        "id": "Y0K95KS6NiQN",
        "colab_type": "code",
        "colab": {}
      },
      "source": [
        "def armstrong(lst):\n",
        "    for num in lst:\n",
        "        s = 0\n",
        "        temp = num\n",
        "        while temp>0:\n",
        "            p = temp % 10\n",
        "            s += p ** 3\n",
        "            temp//=10\n",
        "        if num == s:\n",
        "            yield num"
      ],
      "execution_count": 17,
      "outputs": []
    },
    {
      "cell_type": "code",
      "metadata": {
        "id": "wokWdWpqLpD4",
        "colab_type": "code",
        "colab": {
          "base_uri": "https://localhost:8080/",
          "height": 34
        },
        "outputId": "b9ee995b-bc70-4699-98ac-59715337c83b"
      },
      "source": [
        "print(list(armstrong(lst)))"
      ],
      "execution_count": 18,
      "outputs": [
        {
          "output_type": "stream",
          "text": [
            "[1, 153, 370, 371, 407]\n"
          ],
          "name": "stdout"
        }
      ]
    }
  ]
}