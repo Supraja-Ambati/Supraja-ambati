{
  "nbformat": 4,
  "nbformat_minor": 0,
  "metadata": {
    "colab": {
      "name": "Day5as3.ipynb",
      "provenance": [],
      "authorship_tag": "ABX9TyMlsXajsQPxFWMItfT1FzJT",
      "include_colab_link": true
    },
    "kernelspec": {
      "name": "python3",
      "display_name": "Python 3"
    }
  },
  "cells": [
    {
      "cell_type": "markdown",
      "metadata": {
        "id": "view-in-github",
        "colab_type": "text"
      },
      "source": [
        "<a href=\"https://colab.research.google.com/github/Supraja-Ambati/Supraja-ambati/blob/master/Day5as3.ipynb\" target=\"_parent\"><img src=\"https://colab.research.google.com/assets/colab-badge.svg\" alt=\"Open In Colab\"/></a>"
      ]
    },
    {
      "cell_type": "code",
      "metadata": {
        "id": "wD4TgdQ3_K_B",
        "colab_type": "code",
        "colab": {
          "base_uri": "https://localhost:8080/",
          "height": 85
        },
        "outputId": "9646bc73-de42-4f1d-c6dd-11ff4838f507"
      },
      "source": [
        "k=[\"hey this is supraja\",\"i am in vijayawada\",\"i love python programming\",\"welcome to letsupgrade\"]\n",
        "\n",
        "def toupper(num):\n",
        "  return num.title()\n",
        "\n",
        "getlisttoupperLambda = lambda num: num.title()\n",
        "\n",
        "print(getlisttoupperLambda(k[0]))\n",
        "print(getlisttoupperLambda(k[1]))\n",
        "print(getlisttoupperLambda(k[2]))\n",
        "print(getlisttoupperLambda(k[3]))\n",
        "\n",
        "\n",
        "  "
      ],
      "execution_count": 28,
      "outputs": [
        {
          "output_type": "stream",
          "text": [
            "Hey This Is Supraja\n",
            "I Am In Vijayawada\n",
            "I Love Python Programming\n",
            "Welcome To Letsupgrade\n"
          ],
          "name": "stdout"
        }
      ]
    },
    {
      "cell_type": "code",
      "metadata": {
        "id": "6Ke6C7Arfzfq",
        "colab_type": "code",
        "colab": {
          "base_uri": "https://localhost:8080/",
          "height": 34
        },
        "outputId": "d5c0a51d-cab4-4a18-fc67-288358a8d42d"
      },
      "source": [
        "new_list = list(map(lambda num:num.title(),k))\n",
        "print(new_list)"
      ],
      "execution_count": 29,
      "outputs": [
        {
          "output_type": "stream",
          "text": [
            "['Hey This Is Supraja', 'I Am In Vijayawada', 'I Love Python Programming', 'Welcome To Letsupgrade']\n"
          ],
          "name": "stdout"
        }
      ]
    }
  ]
}