{
  "nbformat": 4,
  "nbformat_minor": 0,
  "metadata": {
    "colab": {
      "name": "Day3as2.ipynb",
      "provenance": [],
      "authorship_tag": "ABX9TyON7kjYEriOktLy2ZFsiwFX",
      "include_colab_link": true
    },
    "kernelspec": {
      "name": "python3",
      "display_name": "Python 3"
    }
  },
  "cells": [
    {
      "cell_type": "markdown",
      "metadata": {
        "id": "view-in-github",
        "colab_type": "text"
      },
      "source": [
        "<a href=\"https://colab.research.google.com/github/Supraja-Ambati/Supraja-ambati/blob/master/Day3as2.ipynb\" target=\"_parent\"><img src=\"https://colab.research.google.com/assets/colab-badge.svg\" alt=\"Open In Colab\"/></a>"
      ]
    },
    {
      "cell_type": "code",
      "metadata": {
        "id": "KaxMYLbzZ7A7",
        "colab_type": "code",
        "colab": {
          "base_uri": "https://localhost:8080/",
          "height": 51
        },
        "outputId": "d541f149-71e8-4eb0-ff79-83323dd3568b"
      },
      "source": [
        "alt=int(input(\"enter the range of altitude:\"))\n",
        "if alt<1000:\n",
        "  print(\"land the plane!\")\n",
        "elif (alt>1000 and alt<5000):\n",
        "  print(\"Come down to 1000ft!\")\n",
        "else:\n",
        "  print(\"please go around and try later!\")"
      ],
      "execution_count": 1,
      "outputs": [
        {
          "output_type": "stream",
          "text": [
            "enter the range of altitude:4000\n",
            "Come down to 1000ft!\n"
          ],
          "name": "stdout"
        }
      ]
    }
  ]
}