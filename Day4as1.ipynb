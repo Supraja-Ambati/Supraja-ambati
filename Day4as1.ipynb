{
  "nbformat": 4,
  "nbformat_minor": 0,
  "metadata": {
    "colab": {
      "name": "Day4as1.ipynb",
      "provenance": [],
      "authorship_tag": "ABX9TyPopCGXbiPx9A8lZDmnJXW4",
      "include_colab_link": true
    },
    "kernelspec": {
      "name": "python3",
      "display_name": "Python 3"
    }
  },
  "cells": [
    {
      "cell_type": "markdown",
      "metadata": {
        "id": "view-in-github",
        "colab_type": "text"
      },
      "source": [
        "<a href=\"https://colab.research.google.com/github/Supraja-Ambati/Supraja-ambati/blob/master/Day4as1.ipynb\" target=\"_parent\"><img src=\"https://colab.research.google.com/assets/colab-badge.svg\" alt=\"Open In Colab\"/></a>"
      ]
    },
    {
      "cell_type": "code",
      "metadata": {
        "id": "Kftl3x8WwaJB",
        "colab_type": "code",
        "colab": {
          "base_uri": "https://localhost:8080/",
          "height": 34
        },
        "outputId": "4ac06fd7-8f0a-4df3-b60a-82041428dc88"
      },
      "source": [
        "n = 1042000\n",
        "while n<=702648265:\n",
        "    order = len(str(n))\n",
        "    sum = 0\n",
        "    num = n\n",
        "    while num>0:\n",
        "        digit = num%10\n",
        "        sum=sum+digit**order\n",
        "        num//=10\n",
        "        if n==sum:\n",
        "            print(\"The first armstrong num is\",n)\n",
        "            break\n",
        "        n=n+1"
      ],
      "execution_count": null,
      "outputs": [
        {
          "output_type": "stream",
          "text": [
            "The first armstrong num is 6880123\n"
          ],
          "name": "stdout"
        }
      ]
    }
  ]
}