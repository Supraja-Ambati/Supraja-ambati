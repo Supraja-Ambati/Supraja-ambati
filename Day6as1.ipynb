{
  "nbformat": 4,
  "nbformat_minor": 0,
  "metadata": {
    "colab": {
      "name": "Day6as1.ipynb",
      "provenance": [],
      "authorship_tag": "ABX9TyOU+YtzWcm+1KD9wGrMLMRH",
      "include_colab_link": true
    },
    "kernelspec": {
      "name": "python3",
      "display_name": "Python 3"
    }
  },
  "cells": [
    {
      "cell_type": "markdown",
      "metadata": {
        "id": "view-in-github",
        "colab_type": "text"
      },
      "source": [
        "<a href=\"https://colab.research.google.com/github/Supraja-Ambati/Supraja-ambati/blob/master/Day6as1.ipynb\" target=\"_parent\"><img src=\"https://colab.research.google.com/assets/colab-badge.svg\" alt=\"Open In Colab\"/></a>"
      ]
    },
    {
      "cell_type": "code",
      "metadata": {
        "id": "anp_3dhgxtyf",
        "colab_type": "code",
        "colab": {
          "base_uri": "https://localhost:8080/",
          "height": 119
        },
        "outputId": "5f766a8e-d4ce-4aac-e44b-8528fd233e6c"
      },
      "source": [
        "class bankDetails:\n",
        "  def __init__(self, ownerName, balance):\n",
        "    self.ownerName = ownerName\n",
        "    self.balance = balance\n",
        "\n",
        "  def deposit(self):\n",
        "    deposit_amount = int(input(\"enter deposit amount\"))    \n",
        "    present_balance = self.balance+deposit_amount\n",
        "    print(\"Available\",present_balance)\n",
        "    self.balance = present_balance\n",
        "\n",
        "  def withdraw(self):\n",
        "    withdraw_amount =int(input(\"enter withdraw amount=\"))\n",
        "    final_balance = self.balance-withdraw_amount\n",
        "    print(\"Available\",final_balance)\n",
        "  \n",
        "  def getDetails(self):\n",
        "    print(\"name\",self.ownerName)\n",
        "    print(\"balance\",self.balance)\n",
        "\n",
        "ty = bankDetails(\"Supraja\",1000)\n",
        "\n",
        "ty.getDetails()\n",
        "ty.deposit()\n",
        "ty.withdraw()"
      ],
      "execution_count": 29,
      "outputs": [
        {
          "output_type": "stream",
          "text": [
            "name Supraja\n",
            "balance 1000\n",
            "enter deposit amount2000\n",
            "Available 3000\n",
            "enter withdraw amount=1500\n",
            "Available 1500\n"
          ],
          "name": "stdout"
        }
      ]
    }
  ]
}