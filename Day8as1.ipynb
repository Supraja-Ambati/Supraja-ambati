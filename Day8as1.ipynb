{
  "nbformat": 4,
  "nbformat_minor": 0,
  "metadata": {
    "colab": {
      "name": "Day8as1.ipynb",
      "provenance": [],
      "authorship_tag": "ABX9TyNmhNVUR5k++EWFYgtAobjO",
      "include_colab_link": true
    },
    "kernelspec": {
      "name": "python3",
      "display_name": "Python 3"
    }
  },
  "cells": [
    {
      "cell_type": "markdown",
      "metadata": {
        "id": "view-in-github",
        "colab_type": "text"
      },
      "source": [
        "<a href=\"https://colab.research.google.com/github/Supraja-Ambati/Supraja-ambati/blob/master/Day8as1.ipynb\" target=\"_parent\"><img src=\"https://colab.research.google.com/assets/colab-badge.svg\" alt=\"Open In Colab\"/></a>"
      ]
    },
    {
      "cell_type": "code",
      "metadata": {
        "id": "krdDgD8maVCm",
        "colab_type": "code",
        "colab": {}
      },
      "source": [
        "def getInput(calculate_even_Odd):\n",
        "  def takeInput():\n",
        "    a = int(input(\"enter a number to check whether it is even or odd\"))\n",
        "    calculate_even_Odd(a)\n",
        "  return takeInput\n",
        "  "
      ],
      "execution_count": 1,
      "outputs": []
    },
    {
      "cell_type": "code",
      "metadata": {
        "id": "uIZKEPXzfcH5",
        "colab_type": "code",
        "colab": {}
      },
      "source": [
        "@getInput\n",
        "def check(a):\n",
        "  if a%2==0:\n",
        "    print(a,\"is a even number\")\n",
        "  else:\n",
        "    print(a,\"is a odd number\")\n"
      ],
      "execution_count": 3,
      "outputs": []
    },
    {
      "cell_type": "code",
      "metadata": {
        "id": "k2tGCK2JgJu6",
        "colab_type": "code",
        "colab": {
          "base_uri": "https://localhost:8080/",
          "height": 51
        },
        "outputId": "4ab0112e-8056-4799-ec94-d94f2fddb48e"
      },
      "source": [
        "check()"
      ],
      "execution_count": 4,
      "outputs": [
        {
          "output_type": "stream",
          "text": [
            "enter a number to check whether it is even or odd93\n",
            "93 is a odd number\n"
          ],
          "name": "stdout"
        }
      ]
    }
  ]
}