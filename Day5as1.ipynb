{
  "nbformat": 4,
  "nbformat_minor": 0,
  "metadata": {
    "colab": {
      "name": "Day5as1.ipynb",
      "provenance": [],
      "authorship_tag": "ABX9TyOx6u90cvMAoBhpqOSpO/V0",
      "include_colab_link": true
    },
    "kernelspec": {
      "name": "python3",
      "display_name": "Python 3"
    }
  },
  "cells": [
    {
      "cell_type": "markdown",
      "metadata": {
        "id": "view-in-github",
        "colab_type": "text"
      },
      "source": [
        "<a href=\"https://colab.research.google.com/github/Supraja-Ambati/Supraja-ambati/blob/master/Day5as1.ipynb\" target=\"_parent\"><img src=\"https://colab.research.google.com/assets/colab-badge.svg\" alt=\"Open In Colab\"/></a>"
      ]
    },
    {
      "cell_type": "code",
      "metadata": {
        "id": "zWnU-ChiPjg8",
        "colab_type": "code",
        "colab": {
          "base_uri": "https://localhost:8080/",
          "height": 51
        },
        "outputId": "35f1337e-12f7-4b2b-c836-3be03259f6b9"
      },
      "source": [
        "lst = [1,1,5]\n",
        "new_lst = [1,5,6,5,1,2,3,6]\n",
        "j = 0\n",
        "for i in range(0,1):\n",
        "    print(\"list is\",new_lst)\n",
        "    for i in range(0,1):\n",
        "        if (new_lst[i]==lst[j]):\n",
        "            j=j+1\n",
        "            i=i+1\n",
        "        else:\n",
        "            i=i+1\n",
        "    if (j==3):\n",
        "        print(\"It is a match\")\n",
        "    else:\n",
        "        print(\"It is gone\")\n"
      ],
      "execution_count": 16,
      "outputs": [
        {
          "output_type": "stream",
          "text": [
            "list is [1, 5, 6, 5, 1, 2, 3, 6]\n",
            "It is gone\n"
          ],
          "name": "stdout"
        }
      ]
    }
  ]
}