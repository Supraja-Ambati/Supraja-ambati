{
  "nbformat": 4,
  "nbformat_minor": 0,
  "metadata": {
    "colab": {
      "name": "Day6as2.ipynb",
      "provenance": [],
      "authorship_tag": "ABX9TyOz/5FQJUWsJWuhjv8onOOf",
      "include_colab_link": true
    },
    "kernelspec": {
      "name": "python3",
      "display_name": "Python 3"
    }
  },
  "cells": [
    {
      "cell_type": "markdown",
      "metadata": {
        "id": "view-in-github",
        "colab_type": "text"
      },
      "source": [
        "<a href=\"https://colab.research.google.com/github/Supraja-Ambati/Supraja-ambati/blob/master/Day6as2.ipynb\" target=\"_parent\"><img src=\"https://colab.research.google.com/assets/colab-badge.svg\" alt=\"Open In Colab\"/></a>"
      ]
    },
    {
      "cell_type": "code",
      "metadata": {
        "id": "RE79V3CJiFNr",
        "colab_type": "code",
        "colab": {
          "base_uri": "https://localhost:8080/",
          "height": 34
        },
        "outputId": "8b9e7ea8-1796-4d3b-8b33-343dfe2b3cc5"
      },
      "source": [
        "import math\n",
        "class cone():\n",
        "  def __init__(self,r,h):\n",
        "    self.r=r\n",
        "    self.h=h\n",
        "  \n",
        "  def volume(self):\n",
        "    pie = 3.1415\n",
        "    vol = pie*self.r*self.r*(self.h/3)\n",
        "    print(vol)\n",
        "\n",
        "  def surface_area(self):\n",
        "    pie = 3.1415\n",
        "    base = pie*self.r*self.r\n",
        "    side = pie*self.r*sqrt(self.r*self.r+self.h*self.h)\n",
        "    print(base)\n",
        "    print(side)\n",
        "\n",
        "p = cone(4,6)\n",
        "p.volume()\n",
        "  \n"
      ],
      "execution_count": 5,
      "outputs": [
        {
          "output_type": "stream",
          "text": [
            "100.528\n"
          ],
          "name": "stdout"
        }
      ]
    }
  ]
}